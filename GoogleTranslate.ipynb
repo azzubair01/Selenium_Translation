{
 "cells": [
  {
   "cell_type": "code",
   "execution_count": 124,
   "id": "c4ab05fe-51cf-4ef8-bb23-ee3b0800ecee",
   "metadata": {},
   "outputs": [
    {
     "name": "stderr",
     "output_type": "stream",
     "text": [
      "100%|████████████████████████████████████████████████████████████████████████████████████| 4/4 [00:17<00:00,  4.47s/it]\n"
     ]
    }
   ],
   "source": [
    "import os\n",
    "import time\n",
    "from tqdm import tqdm\n",
    "from selenium import webdriver\n",
    "from selenium.webdriver.support.ui import WebDriverWait\n",
    "from selenium.webdriver.support import expected_conditions as EC\n",
    "from selenium.webdriver.common.by import By\n",
    "\n",
    "# Give Language code in which you want to translate the text:=>\n",
    "source_lang = 'en'\n",
    "dest_lang = 'ms'\n",
    "\n",
    "# Read Doc files\n",
    "input_path = '.\\\\docs'\n",
    "dir_list = os.listdir(input_path)\n",
    "\n",
    "# Define Output folder\n",
    "output_path = '.\\\\output'\n",
    "if not os.path.exists(output_path):\n",
    "    os.mkdir(output_path)\n",
    "\n",
    "# Iterate translation over Docs files\n",
    "translated_inputs = []\n",
    "for i in tqdm(range(len(dir_list))):\n",
    "    # launch browser with selenium:=>\n",
    "    options = webdriver.ChromeOptions()\n",
    "    options.add_experimental_option('excludeSwitches', ['enable-logging', 'enable-automation', 'disable-popup-blocking'])\n",
    "    browser = webdriver.Chrome(options=options)\n",
    "    # browser = webdriver.Chrome('path of chromedriver.exe file') if the chromedriver.exe is in different folder\n",
    "\n",
    "    with open(input_path + '\\\\' + dir_list[i], 'r') as file:\n",
    "        text = file.read()\n",
    "\n",
    "    # copy google Translator link here:=>\n",
    "    browser.get(\"https://translate.google.com.my/?sl=\"+source_lang+\"&tl=\"+dest_lang+\"&text=\"+text+\"&op=translate\")\n",
    "\n",
    "    # just wait for some time for translating input text:=>\n",
    "    # time.sleep(0.5)\n",
    "    WebDriverWait(browser, 10).until(EC.presence_of_element_located((By.XPATH, '//span[@jsname=\"W297wb\"]'))).text\n",
    "\n",
    "    # Given below x path contains the translated output that we are storing in output variable:=>\n",
    "    output1 = browser.find_element(By.XPATH, '//span[@jsname=\"W297wb\"]').text\n",
    "\n",
    "    with open(output_path + '\\\\' + dir_list[i], 'w') as file:\n",
    "        file.write(output1)\n",
    "\n",
    "    # Display the output:=>\n",
    "    # print(\"Translated Paragraph:=> \" + output1)\n",
    "\n",
    "    # Quit the browser\n",
    "    browser.quit()\n"
   ]
  },
  {
   "cell_type": "code",
   "execution_count": 119,
   "id": "83ced40f-9bce-4245-9afc-b242639787d1",
   "metadata": {},
   "outputs": [
    {
     "data": {
      "text/plain": [
       "'Pada 2 Julai 2015, Wall Street Journal melaporkan bahawa sejumlah $ 700 juta telah dimasukkan ke dalam akaun peribadi YAB Dato Seri Najib Tun Abdul Razak. Pada 14 Julai 2015, YB Datuk Husni Hanadzilah mendakwa bahawa tuduhan itu tidak berasas dan tidak betul. Pada 30 Julai 2015, YB Datuk Ahmad Maslan menyatakan bahawa tiada wang yang masuk ke dalam akaun YAB Dato Seri Najib Tun Abdul Razak. Pada 5 Julai 2015, YAB Datuk Seri Ahmad Zahid Hamidi menyatakan bahawa YAB Dato Seri Najib Tun Abdul Razak harus menyaman Wall Street Journal WSJ kerana ia adalah mengenai maruah kepimpinan negara. Pada 1 Ogos 2015, Rahmad Dahlan menyatakan tentang sumbangan yang mana pihaknya? Dan dia menyatakan presiden parti mempunyai akaun amanah bagi pihak parti. Pada 1 Ogos 2015, YB Datuk Azalina Othman menyatakan bahawa mana-mana ahli politik bebas untuk menerima dana dari luar. Pada 3 Ogos 2015, SPRM mengesahkan dana sumbangan penderma RM 2.6 bilion dan bukannya disalurkan oleh syarikat pelaburan yang ditubuhkan oleh Kementerian Kewangan, 1Malaysia Development Berhad (1Malaysia Development Berhad). Saya ingin melaporkan dan meminta Polis Diraja Malaysia untuk membuat siasatan menyeluruh terhadap kenyataan YAB Dato Seri Najib Tun Abdul Razak yang didapati mempunyai unsur penipuan di Dewan Rakyat dalam jawapan bertulisnya pada 11 Mac 2015 Jika Laporan Laporan Sarawak mempunyai asas kebenaran. Saya juga ingin meminta Polis Diraja Malaysia untuk menyiasat tuduhan Bank BSI Singapura yang menyatakan bahawa 1Malaysia Development Berhad telah memberi mereka dokumen palsu mengenai penjimatan. Berdasarkan Pendedahan Laporan Sarawak, siasatan menyeluruh oleh Polis Diraja Malaysia mesti dijalankan ke: 1) Pengerusi Lembaga Penasihat Pembangunan Berhad 1Malaysia, YAB Dato Seri Najib Tun Abdul Razak2) Pengerusi Lembaga Pengarah 1Malaysia Development Berhad, Tan Sri Lodin Wok Kamaruddin.3) 1Malaysia Development Berhad Presiden, Arul Kandasamy.\\n '"
      ]
     },
     "execution_count": 119,
     "metadata": {},
     "output_type": "execute_result"
    }
   ],
   "source": [
    "browser = webdriver.Chrome(options=options)\n",
    "browser.get(\"https://translate.google.com.my/?sl=\"+source_lang+\"&tl=\"+dest_lang+\"&text=\"+text+\"&op=translate\")\n",
    "WebDriverWait(browser, 5).until(EC.presence_of_element_located((By.XPATH, '/html/body/c-wiz/div/div[2]/c-wiz/div[2]/c-wiz/div[1]/div[2]/div[2]/c-wiz[2]/div[5]/div/div[1]'))).text\n",
    "browser.find_element(By.XPATH, '/html/body/c-wiz/div/div[2]/c-wiz/div[2]/c-wiz/div[1]/div[2]/div[2]/c-wiz[2]/div[5]/div/div[1]').text"
   ]
  },
  {
   "cell_type": "code",
   "execution_count": null,
   "id": "f80af002-9ff8-40e2-b870-00463765aa2a",
   "metadata": {},
   "outputs": [],
   "source": []
  }
 ],
 "metadata": {
  "kernelspec": {
   "display_name": "Python 3",
   "language": "python",
   "name": "python3"
  },
  "language_info": {
   "codemirror_mode": {
    "name": "ipython",
    "version": 3
   },
   "file_extension": ".py",
   "mimetype": "text/x-python",
   "name": "python",
   "nbconvert_exporter": "python",
   "pygments_lexer": "ipython3",
   "version": "3.8.8"
  }
 },
 "nbformat": 4,
 "nbformat_minor": 5
}
