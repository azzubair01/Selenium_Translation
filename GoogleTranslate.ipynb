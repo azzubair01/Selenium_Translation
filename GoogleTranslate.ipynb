{
 "cells": [
  {
   "cell_type": "code",
   "execution_count": 4,
   "id": "c4ab05fe-51cf-4ef8-bb23-ee3b0800ecee",
   "metadata": {},
   "outputs": [
    {
     "name": "stderr",
     "output_type": "stream",
     "text": [
      "100%|████████████████████████████████████████████████████████████████████████████████████| 4/4 [00:17<00:00,  4.31s/it]\n"
     ]
    }
   ],
   "source": [
    "import os\n",
    "import time\n",
    "from tqdm import tqdm\n",
    "from selenium import webdriver\n",
    "from selenium.webdriver.support.ui import WebDriverWait\n",
    "from selenium.webdriver.support import expected_conditions as EC\n",
    "from selenium.webdriver.common.by import By\n",
    "\n",
    "# Give Language code in which you want to translate the text:=>\n",
    "source_lang = 'en'\n",
    "dest_lang = 'ms'\n",
    "\n",
    "# Read Doc files\n",
    "input_path = '.\\\\docs'\n",
    "dir_list = os.listdir(input_path)\n",
    "\n",
    "# Define Output folder\n",
    "output_path = '.\\\\output'\n",
    "if not os.path.exists(output_path):\n",
    "    os.mkdir(output_path)\n",
    "\n",
    "# Iterate translation over Docs files\n",
    "translated_inputs = []\n",
    "for i in tqdm(range(len(dir_list))):\n",
    "    # launch browser with selenium:=>\n",
    "    options = webdriver.ChromeOptions()\n",
    "    options.add_experimental_option('excludeSwitches', ['enable-logging', 'enable-automation', 'disable-popup-blocking'])\n",
    "    browser = webdriver.Chrome(options=options)\n",
    "    # browser = webdriver.Chrome('path of chromedriver.exe file') if the chromedriver.exe is in different folder\n",
    "\n",
    "    with open(input_path + '\\\\' + dir_list[i], 'r') as file:\n",
    "        text = file.read()\n",
    "\n",
    "    # copy google Translator link here:=>\n",
    "    browser.get(\"https://translate.google.com.my/?sl=\"+source_lang+\"&tl=\"+dest_lang+\"&text=\"+text+\"&op=translate\")\n",
    "\n",
    "    # just wait for some time for translating input text:=>\n",
    "    # time.sleep(0.5)\n",
    "    WebDriverWait(browser, 10).until(EC.presence_of_element_located((By.XPATH, '/html/body/c-wiz/div/div[2]/c-wiz/div[2]/c-wiz/div[1]/div[2]/div[2]/c-wiz[2]/div[5]/div/div[1]'))).text\n",
    "\n",
    "    # Given below x path contains the translated output that we are storing in output variable:=>\n",
    "    output1 = browser.find_element(By.XPATH, '/html/body/c-wiz/div/div[2]/c-wiz/div[2]/c-wiz/div[1]/div[2]/div[2]/c-wiz[2]/div[5]/div/div[1]').text\n",
    "\n",
    "    with open(output_path + '\\\\' + dir_list[i], 'w') as file:\n",
    "        file.write(output1)\n",
    "\n",
    "    # Display the output:=>\n",
    "    # print(\"Translated Paragraph:=> \" + output1)\n",
    "\n",
    "    # Quit the browser\n",
    "    browser.quit()\n"
   ]
  }
 ],
 "metadata": {
  "kernelspec": {
   "display_name": "Python 3",
   "language": "python",
   "name": "python3"
  },
  "language_info": {
   "codemirror_mode": {
    "name": "ipython",
    "version": 3
   },
   "file_extension": ".py",
   "mimetype": "text/x-python",
   "name": "python",
   "nbconvert_exporter": "python",
   "pygments_lexer": "ipython3",
   "version": "3.8.8"
  }
 },
 "nbformat": 4,
 "nbformat_minor": 5
}
